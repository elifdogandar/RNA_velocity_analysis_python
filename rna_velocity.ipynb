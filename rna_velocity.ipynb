{
 "cells": [
  {
   "cell_type": "code",
   "execution_count": null,
   "id": "fac0ec9c-b07e-414b-abd6-21b00cede65c",
   "metadata": {
    "tags": []
   },
   "outputs": [],
   "source": [
    "import scanpy as sc\n",
    "import os\n",
    "import numpy as np\n",
    "import pandas as pd\n",
    "\n",
    "os.getcwd()\n",
    "os.chdir(\"...\")\n",
    "os.getcwd()\n",
    "adata1 = sc.read_h5ad(\"seurat_to_anndata.h5ad\")\n"
   ]
  },
  {
   "cell_type": "code",
   "execution_count": null,
   "id": "437e8b17-152a-460e-8137-e3aab4ee222e",
   "metadata": {},
   "outputs": [],
   "source": [
    "adata1.obs['Group'].value_counts()"
   ]
  },
  {
   "cell_type": "code",
   "execution_count": null,
   "id": "2eca3af2-9bc5-412d-9e97-5b7dc77d3294",
   "metadata": {},
   "outputs": [],
   "source": [
    "adata1.obs['seurat_clusters'] =   adata1.obs['seurat_clusters'].astype('category')\n",
    "sc.pl.umap(adata1, color=\"seurat_clusters\", legend_loc ='on data')\n",
    "\n"
   ]
  },
  {
   "cell_type": "markdown",
   "id": "8a54e23c-03ed-4090-83b5-c79c81e8eefb",
   "metadata": {
    "tags": []
   },
   "source": [
    "### Velocity"
   ]
  },
  {
   "cell_type": "code",
   "execution_count": null,
   "id": "713467b2-8d0d-4117-b8cf-a3c3b4e006ae",
   "metadata": {
    "tags": []
   },
   "outputs": [],
   "source": [
    "os.getcwd()\n",
    "os.chdir(\".../loom\")\n",
    "os.getcwd()"
   ]
  },
  {
   "cell_type": "code",
   "execution_count": null,
   "id": "087c844c-f5d1-4e2e-8f58-48658995e53c",
   "metadata": {
    "tags": []
   },
   "outputs": [],
   "source": [
    "import scvelo as scv"
   ]
  },
  {
   "cell_type": "code",
   "execution_count": null,
   "id": "83f30070-a1b4-4e1c-b773-ee47c39c3f28",
   "metadata": {
    "tags": []
   },
   "outputs": [],
   "source": [
    "ldata_ko1 = scv.read('Pool1_iKO1.loom')\n",
    "ldata_ko2 = scv.read(\"Pool1_iKO2.loom\")\n",
    "ldata_ko3 = scv.read(\"Pool1_iKO3.loom\")\n",
    "ldata_ko4 = scv.read(\"Pool1_iKO4.loom\")\n",
    "ldata_cl1 = scv.read(\"Pool2_ctrl1.loom\")\n",
    "ldata_cl2 = scv.read(\"Pool2_ctrl2.loom\")\n",
    "ldata_cl3 = scv.read(\"Pool2_ctrl3.loom\")\n",
    "ldata_cl4 = scv.read(\"Pool2_ctrl4.loom\")\n"
   ]
  },
  {
   "cell_type": "code",
   "execution_count": null,
   "id": "16871210-812e-48d7-b899-68a7462fa589",
   "metadata": {
    "tags": []
   },
   "outputs": [],
   "source": [
    "# rename barcodes in order to merge:\n",
    "barcodes = [bc.split(':')[1] for bc in ldata_ko1.obs.index.tolist()]\n",
    "barcodes = [bc[0:len(bc)-1] + '_1' for bc in barcodes]\n",
    "ldata_ko1.obs.index = barcodes\n",
    "\n",
    "barcodes = [bc.split(':')[1] for bc in ldata_ko2.obs.index.tolist()]\n",
    "barcodes = [bc[0:len(bc)-1] + '_2' for bc in barcodes]\n",
    "ldata_ko2.obs.index = barcodes\n",
    "\n",
    "barcodes = [bc.split(':')[1] for bc in ldata_ko3.obs.index.tolist()]\n",
    "barcodes = [bc[0:len(bc)-1] + '_3' for bc in barcodes]\n",
    "ldata_ko3.obs.index = barcodes\n",
    "\n",
    "barcodes = [bc.split(':')[1] for bc in ldata_ko4.obs.index.tolist()]\n",
    "barcodes = [bc[0:len(bc)-1] + '_4' for bc in barcodes]\n",
    "ldata_ko4.obs.index = barcodes\n",
    "\n",
    "barcodes = [bc.split(':')[1] for bc in ldata_cl1.obs.index.tolist()]\n",
    "barcodes = [bc[0:len(bc)-1] + '_5' for bc in barcodes]\n",
    "ldata_cl1.obs.index = barcodes\n",
    "\n",
    "barcodes = [bc.split(':')[1] for bc in ldata_cl2.obs.index.tolist()]\n",
    "barcodes = [bc[0:len(bc)-1] + '_6' for bc in barcodes]\n",
    "ldata_cl2.obs.index = barcodes\n",
    "\n",
    "barcodes = [bc.split(':')[1] for bc in ldata_cl3.obs.index.tolist()]\n",
    "barcodes = [bc[0:len(bc)-1] + '_7' for bc in barcodes]\n",
    "ldata_cl3.obs.index = barcodes\n",
    "\n",
    "barcodes = [bc.split(':')[1] for bc in ldata_cl4.obs.index.tolist()]\n",
    "barcodes = [bc[0:len(bc)-1] + '_8' for bc in barcodes]\n",
    "ldata_cl4.obs.index = barcodes\n",
    "\n",
    "\n",
    "# make variable names unique\n",
    "ldata_ko1.var_names_make_unique()\n",
    "ldata_ko2.var_names_make_unique()\n",
    "ldata_ko3.var_names_make_unique()\n",
    "ldata_ko4.var_names_make_unique()\n",
    "ldata_cl1.var_names_make_unique()\n",
    "ldata_cl2.var_names_make_unique()\n",
    "ldata_cl3.var_names_make_unique()\n",
    "ldata_cl4.var_names_make_unique()\n",
    "\n",
    "\n",
    "# concatenate the looms\n",
    "ldata = ldata_ko1.concatenate([ldata_ko2,\n",
    "ldata_ko3,\n",
    "ldata_ko4,\n",
    "ldata_cl1,\n",
    "ldata_cl2,\n",
    "ldata_cl3,\n",
    "ldata_cl4])\n"
   ]
  },
  {
   "cell_type": "code",
   "execution_count": null,
   "id": "aaa2b8b2-9f5f-41dc-8229-91196b1a84e6",
   "metadata": {
    "tags": []
   },
   "outputs": [],
   "source": [
    "ldata.obs_names"
   ]
  },
  {
   "cell_type": "code",
   "execution_count": null,
   "id": "c482567e-57bf-4a12-aa00-7ceffa53887a",
   "metadata": {
    "tags": []
   },
   "outputs": [],
   "source": [
    "adata_all = scv.utils.merge(adata1, ldata)\n",
    "\n"
   ]
  },
  {
   "cell_type": "code",
   "execution_count": null,
   "id": "ff5fa1ff-c1fe-4116-b754-35cf6e51321b",
   "metadata": {
    "tags": []
   },
   "outputs": [],
   "source": [
    "mask = adata_all.obs['orig.ident'].isin(['Trex1_KO1', 'Trex1_KO2', 'Trex1_KO3', 'Trex1_KO4'])\n",
    "adata = adata_all[mask].copy() \n"
   ]
  },
  {
   "cell_type": "code",
   "execution_count": null,
   "id": "367f04cd-afa0-4400-a51d-734214655dca",
   "metadata": {},
   "outputs": [],
   "source": [
    "sc.pl.umap(adata, color=['orig.ident', 'seurat_clusters'], frameon=False, title=['', ''])"
   ]
  },
  {
   "cell_type": "code",
   "execution_count": null,
   "id": "103bdc20-1766-4554-8c8c-350c0b197470",
   "metadata": {
    "tags": []
   },
   "outputs": [],
   "source": [
    "adata"
   ]
  },
  {
   "cell_type": "code",
   "execution_count": null,
   "id": "bc6f16f1-610c-41e0-a508-4397916dff72",
   "metadata": {},
   "outputs": [],
   "source": [
    "sc.tl.pca(adata, svd_solver='arpack' )\n",
    "sc.pp.neighbors(adata, n_neighbors=15, use_rep='X_pca')\n"
   ]
  },
  {
   "cell_type": "code",
   "execution_count": null,
   "id": "8a6cd013-f5d9-494f-8d3e-8544b2d749b7",
   "metadata": {
    "tags": []
   },
   "outputs": [],
   "source": [
    "adata1"
   ]
  },
  {
   "cell_type": "code",
   "execution_count": null,
   "id": "cdfcef04-f4c7-4cf2-9be5-4fc594499dd7",
   "metadata": {
    "tags": []
   },
   "outputs": [],
   "source": [
    "#adata1 [adata1.obs['orig.ident'] == 'Trex1_KO1' ]\n",
    "#adata1 [adata1.obs['orig.ident'] == 'Trex1_KO2' ]\n",
    "#adata1 [adata1.obs['orig.ident'] == 'Trex1_KO3' ]\n",
    "#adata1 [adata1.obs['orig.ident'] == 'Trex1_KO4' ]\n",
    "#adata1 [adata1.obs['orig.ident'] == 'Trex1_WT1' ]\n",
    "#adata1 [adata1.obs['orig.ident'] == 'Trex1_WT2' ]\n",
    "#adata1 [adata1.obs['orig.ident'] == 'Trex1_WT3' ]\n",
    "#adata1 [adata1.obs['orig.ident'] == 'Trex1_WT4' ]\n",
    "#ldata_ko3\n",
    "\n",
    "#adata1.obs_names\n",
    "#adata1.obs\n",
    "#adata1"
   ]
  },
  {
   "cell_type": "code",
   "execution_count": null,
   "id": "dfa97598-d3b1-4715-a75d-fd21440f7e98",
   "metadata": {
    "tags": []
   },
   "outputs": [],
   "source": [
    "#spliced_df = pd.DataFrame(ldata.layers['spliced'].A)\n",
    "#spliced_df[:100]\n",
    "#ldata.X.A.shape\n"
   ]
  },
  {
   "cell_type": "code",
   "execution_count": null,
   "id": "342a2ae3-eb87-44c6-84c8-c9f6ac610f8b",
   "metadata": {
    "tags": []
   },
   "outputs": [],
   "source": [
    "#unspliced_df = pd.DataFrame(ldata.layers['unspliced'].A)\n",
    "#unspliced_df "
   ]
  },
  {
   "cell_type": "code",
   "execution_count": null,
   "id": "f29bd525-118a-420e-8e33-60d5e0a78c10",
   "metadata": {},
   "outputs": [],
   "source": [
    "#ldatax_df = pd.DataFrame(ldata.X.A , index=ldata.obs_names, columns=ldata.var_names)  \n",
    "#ldatax_df\n",
    "#ldatax_df.loc[ 'AAACCCATCAAG'  ,['Smndc1']]\n",
    "#ldata.obs_names"
   ]
  },
  {
   "cell_type": "code",
   "execution_count": null,
   "id": "3255ac79-9122-4ccc-8db5-d85a7f115cec",
   "metadata": {
    "tags": []
   },
   "outputs": [],
   "source": [
    "#adatax_df = pd.DataFrame(adata.X , index=adata.obs_names, columns=adata.var_names)  \n",
    "#adatax_df.loc[  'AAACCCATCAAG'  ,['Smndc1']]\n",
    "#adata\n",
    "#spliced_df = pd.DataFrame(adata.layers['spliced'].A , index=adata.obs_names, columns=adata.var_names)  \n",
    "#spliced_df.loc[ :   ,['Gm8251']]\n",
    "#unspliced_df = pd.DataFrame(adata.layers['unspliced'].A,  index=adata.obs_names, columns=adata.var_names)  \n",
    "#unspliced_df.loc[ :   ,['Gm8251']]"
   ]
  },
  {
   "cell_type": "code",
   "execution_count": null,
   "id": "70baa36e-139c-4952-b550-c12a6737fa2c",
   "metadata": {
    "tags": []
   },
   "outputs": [],
   "source": [
    "scv.set_figure_params()\n"
   ]
  },
  {
   "cell_type": "code",
   "execution_count": null,
   "id": "d4b7c46e-4104-4a51-95af-40f8cefecd1d",
   "metadata": {
    "tags": []
   },
   "outputs": [],
   "source": [
    "scv.pp.filter_and_normalize(adata, min_shared_counts=20, n_top_genes=2000, log = False)\n"
   ]
  },
  {
   "cell_type": "code",
   "execution_count": null,
   "id": "428f16cf-f743-4b78-97ef-36f530c0eac7",
   "metadata": {
    "tags": []
   },
   "outputs": [],
   "source": [
    "adata"
   ]
  },
  {
   "cell_type": "code",
   "execution_count": null,
   "id": "0511e9ac-cb68-4f56-a638-ddacaff42143",
   "metadata": {
    "tags": []
   },
   "outputs": [],
   "source": [
    "#adatax_df = pd.DataFrame(adata.X , index=adata.obs_names, columns=adata.var_names)  \n",
    "#adatax_df.loc[ :   ,:]"
   ]
  },
  {
   "cell_type": "code",
   "execution_count": null,
   "id": "c9b45d15-2411-41ab-910f-6a7072d259b2",
   "metadata": {
    "tags": []
   },
   "outputs": [],
   "source": [
    "#adata.X\n",
    "#unspliced_df = pd.DataFrame(adata.layers['unspliced'].A)\n",
    "#unspliced_df[:100]"
   ]
  },
  {
   "cell_type": "code",
   "execution_count": null,
   "id": "856ddded-5366-478a-b96c-41f6762bc108",
   "metadata": {
    "tags": []
   },
   "outputs": [],
   "source": [
    "scv.pp.moments(adata)"
   ]
  },
  {
   "cell_type": "markdown",
   "id": "548707fa-c941-42e1-9725-15ce2d019392",
   "metadata": {
    "tags": []
   },
   "source": [
    "### Dynamical modeling"
   ]
  },
  {
   "cell_type": "code",
   "execution_count": null,
   "id": "e9c50651-0ff7-4fa7-a97a-18f4475056d0",
   "metadata": {
    "tags": []
   },
   "outputs": [],
   "source": [
    "scv.settings.presenter_view = True  # set max width size for presenter view\n",
    "scv.settings.set_figure_params('scvelo')  # for beautified visualization"
   ]
  },
  {
   "cell_type": "code",
   "execution_count": null,
   "id": "a94aa757-873b-40f9-9244-db8ea545f160",
   "metadata": {
    "tags": []
   },
   "outputs": [],
   "source": [
    "scv.tl.recover_dynamics(adata)"
   ]
  },
  {
   "cell_type": "code",
   "execution_count": null,
   "id": "54a46748-1b50-4c69-9193-81621be1f426",
   "metadata": {
    "tags": []
   },
   "outputs": [],
   "source": [
    "scv.tl.velocity(adata, mode='dynamical')\n",
    "scv.tl.velocity_graph(adata)\n",
    "\n"
   ]
  },
  {
   "cell_type": "code",
   "execution_count": null,
   "id": "8bce273b-c773-4d3b-a06e-0c97a2af660e",
   "metadata": {
    "tags": []
   },
   "outputs": [],
   "source": [
    "scv.pl.velocity_embedding_stream(adata, basis='umap', color= 'seurat_clusters', save='rna_velocity.svg' )"
   ]
  },
  {
   "cell_type": "code",
   "execution_count": null,
   "id": "be06ae94-c2d4-41b9-84c6-3fd97afc5785",
   "metadata": {
    "tags": []
   },
   "outputs": [],
   "source": [
    "scv.pl.proportions(adata, groupby= 'seurat_clusters')\n",
    "scv.pl.proportions(adata, groupby= 'orig.ident')\n",
    "adata"
   ]
  },
  {
   "cell_type": "code",
   "execution_count": null,
   "id": "28d68d5e-cdd8-46a5-baa3-a51abd518f35",
   "metadata": {
    "tags": []
   },
   "outputs": [],
   "source": [
    "df = adata.var\n",
    "df = df[(df['fit_likelihood'] > .1) & df['velocity_genes'] == True]\n",
    "\n",
    "kwargs = dict(xscale='log', fontsize=16)\n",
    "with scv.GridSpec(ncols=3) as pl:\n",
    "    pl.hist(df['fit_alpha'], xlabel='transcription rate', **kwargs)\n",
    "    pl.hist(df['fit_beta'] * df['fit_scaling'], xlabel='splicing rate', xticks=[.1, .4, 1], **kwargs)\n",
    "    pl.hist(df['fit_gamma'], xlabel='degradation rate', xticks=[.1, .4, 1], **kwargs)\n",
    "\n",
    "scv.get_df(adata, 'fit*', dropna=True).head()\n",
    "\n"
   ]
  },
  {
   "cell_type": "code",
   "execution_count": null,
   "id": "760ee678-92b9-4a59-9dcb-ae89fbeecd31",
   "metadata": {
    "tags": []
   },
   "outputs": [],
   "source": [
    "scv.tl.latent_time(adata)\n",
    "scv.pl.scatter(adata, color='latent_time', color_map='gnuplot', save = 'latent_time.svg')\n",
    "\n"
   ]
  },
  {
   "cell_type": "code",
   "execution_count": null,
   "id": "55381e26-8100-4625-87a5-49015eaa991d",
   "metadata": {
    "tags": []
   },
   "outputs": [],
   "source": [
    "top_genes = adata.var['fit_likelihood'].sort_values(ascending=False).index[:300]\n",
    "top_genes\n",
    "scv.pl.heatmap(adata, var_names=top_genes, sortby='latent_time', col_color='seurat_clusters', n_convolve=100)\n",
    "\n"
   ]
  },
  {
   "cell_type": "code",
   "execution_count": null,
   "id": "aa2ac694-a626-41a1-8d99-3e64b6128ecd",
   "metadata": {
    "tags": []
   },
   "outputs": [],
   "source": [
    "top_genes = adata.var['fit_likelihood'].sort_values(ascending=False).index\n",
    "scv.pl.scatter(adata, basis=top_genes[:9], ncols=3, frameon=False, color= 'seurat_clusters')\n"
   ]
  },
  {
   "cell_type": "code",
   "execution_count": null,
   "id": "3ffde3b6-5ac5-4e01-a1c4-f7112224c102",
   "metadata": {
    "tags": []
   },
   "outputs": [],
   "source": [
    "scv.pl.velocity(adata, ['Pclaf',  'Cdca8', 'Tipin', 'Cdc45'], color='seurat_clusters', ncols=1)"
   ]
  },
  {
   "cell_type": "code",
   "execution_count": null,
   "id": "70268b68-0720-41cb-bca8-a893583c5ea4",
   "metadata": {
    "tags": []
   },
   "outputs": [],
   "source": [
    "var_names = top_genes[:9]\n",
    "#scv.pl.scatter(adata, var_names, frameon=True, color= 'seurat_clusters')\n",
    "scv.pl.scatter(adata, x='latent_time', y=var_names, frameon=True, color= 'seurat_clusters', ncols=3, hspace=1)\n"
   ]
  },
  {
   "cell_type": "code",
   "execution_count": null,
   "id": "9e7b8949-0ea3-4f0b-9f2f-fc1938892194",
   "metadata": {
    "tags": []
   },
   "outputs": [],
   "source": [
    "scv.tl.rank_velocity_genes(adata, groupby='seurat_clusters', min_corr=.3)\n",
    "\n",
    "df = scv.get_df(adata.uns['rank_velocity_genes']['names'])\n",
    "df.to_csv('rank_velocity_genes_corrected.csv')\n",
    "df.iloc[:10,:9]\n"
   ]
  },
  {
   "cell_type": "code",
   "execution_count": null,
   "id": "759eccce-7a10-41b7-a5cd-307af5601c25",
   "metadata": {
    "tags": []
   },
   "outputs": [],
   "source": [
    "df['1'][:5]"
   ]
  },
  {
   "cell_type": "code",
   "execution_count": null,
   "id": "ebef6ef5-2d9a-4545-9779-a9dcc039f768",
   "metadata": {
    "tags": []
   },
   "outputs": [],
   "source": [
    "#kwargs = dict(frameon=False, size=10, linewidth=1.5,\n",
    "#              add_outline=' 1 , 2 ')\n",
    "\n",
    "scv.pl.scatter(adata, df['4'][:4], ylabel='4', color= 'seurat_clusters', frameon=False)\n",
    "#scv.pl.scatter(adata, df['2'][:4], ylabel='2', color= 'seurat_clusters')\n",
    "\n"
   ]
  },
  {
   "cell_type": "code",
   "execution_count": null,
   "id": "126a1334-0fc7-4dd2-805c-0fa956c28890",
   "metadata": {
    "tags": []
   },
   "outputs": [],
   "source": [
    "scv.tl.rank_dynamical_genes(adata, groupby='seurat_clusters')\n",
    "df = scv.get_df(adata, 'rank_dynamical_genes/names')\n",
    "df.to_csv('rank_dynamical_genes_corrected.csv')\n",
    "df.iloc[:10,:10]\n",
    "\n"
   ]
  },
  {
   "cell_type": "code",
   "execution_count": null,
   "id": "0a67553a-1b34-444e-b295-c14a5f42f9b4",
   "metadata": {
    "tags": []
   },
   "outputs": [],
   "source": [
    "for seurat_clusters in ['2']:\n",
    "    scv.pl.scatter(adata, df[seurat_clusters][:5], ylabel=seurat_clusters,color='seurat_clusters', frameon=False)\n"
   ]
  },
  {
   "cell_type": "code",
   "execution_count": null,
   "id": "9ff61a20-16c6-4d50-b301-87bc13c859dd",
   "metadata": {
    "tags": []
   },
   "outputs": [],
   "source": [
    "scv.tl.score_genes_cell_cycle(adata)\n",
    "scv.pl.scatter(adata, color_gradients=['S_score', 'G2M_score'], smooth=True, perc=[5, 95])\n",
    "\n"
   ]
  },
  {
   "cell_type": "code",
   "execution_count": null,
   "id": "b9dd0189-af84-4eae-93c2-8b228dd741c5",
   "metadata": {
    "tags": []
   },
   "outputs": [],
   "source": [
    "s_genes, g2m_genes = scv.utils.get_phase_marker_genes(adata)\n",
    "s_genes = scv.get_df(adata[:, s_genes], 'spearmans_score', sort_values=True).index\n",
    "g2m_genes = scv.get_df(adata[:, g2m_genes], 'spearmans_score', sort_values=True).index\n",
    "\n",
    "kwargs = dict(frameon=True, ylabel='cell cycle genes')\n",
    "scv.pl.scatter(adata, list(s_genes[:3]) + list(g2m_genes[:3]), **kwargs, nrows=2, hspace=1)\n"
   ]
  },
  {
   "cell_type": "code",
   "execution_count": null,
   "id": "e1e174b7-07ab-430a-a2e8-fbb33e849325",
   "metadata": {
    "tags": []
   },
   "outputs": [],
   "source": [
    "scv.tl.velocity_confidence(adata)\n",
    "keys = 'velocity_length', 'velocity_confidence'\n",
    "scv.pl.scatter(adata, c=keys, cmap='coolwarm', perc=[5, 95])\n",
    "\n"
   ]
  },
  {
   "cell_type": "code",
   "execution_count": null,
   "id": "b6c490bb-fb53-44f3-af2a-65d6ea505141",
   "metadata": {
    "tags": []
   },
   "outputs": [],
   "source": [
    "df = adata.obs.groupby('seurat_clusters')[['velocity_length', 'velocity_confidence']].mean().T\n",
    "df.style.background_gradient(cmap='coolwarm', axis=1)\n",
    "\n"
   ]
  },
  {
   "cell_type": "code",
   "execution_count": null,
   "id": "38c0be40-3d82-4781-b91c-5d4c5705842e",
   "metadata": {
    "tags": []
   },
   "outputs": [],
   "source": [
    "scv.pl.velocity_graph(adata, threshold=.1, color= 'seurat_clusters' )"
   ]
  },
  {
   "cell_type": "code",
   "execution_count": null,
   "id": "bd43e5f1-166b-4247-9f26-dac1046acf99",
   "metadata": {
    "tags": []
   },
   "outputs": [],
   "source": [
    "scv.tl.velocity_pseudotime(adata)\n",
    "scv.pl.scatter(adata, color='velocity_pseudotime', cmap='gnuplot')\n",
    "\n"
   ]
  },
  {
   "cell_type": "code",
   "execution_count": null,
   "id": "966c55f0-05ae-453e-812b-5f1b547433d5",
   "metadata": {
    "tags": []
   },
   "outputs": [],
   "source": [
    "# this is needed due to a current bug - bugfix is coming soon.\n",
    "adata.uns['neighbors']['distances'] = adata.obsp['distances']\n",
    "adata.uns['neighbors']['connectivities'] = adata.obsp['connectivities']\n",
    "\n",
    "scv.tl.paga(adata, groups='seurat_clusters')\n",
    "df = scv.get_df(adata, 'paga/transitions_confidence', precision=2).T\n",
    "df.style.background_gradient(cmap='Blues').format('{:.2g}')\n",
    "\n"
   ]
  },
  {
   "cell_type": "code",
   "execution_count": null,
   "id": "b273d18e-aa79-4afc-8d84-ba95817a340e",
   "metadata": {
    "tags": []
   },
   "outputs": [],
   "source": [
    "scv.pl.paga(adata, basis='umap', size=50, alpha=.1,\n",
    "            min_edge_width=2, node_size_scale=1.5)\n",
    "\n"
   ]
  },
  {
   "cell_type": "code",
   "execution_count": null,
   "id": "8c2cc255-3677-47d2-ab5c-bab0a119ca41",
   "metadata": {
    "tags": []
   },
   "outputs": [],
   "source": [
    "adata"
   ]
  },
  {
   "cell_type": "code",
   "execution_count": null,
   "id": "f3c9a74b-4733-4e76-9706-e35e43c3fce4",
   "metadata": {
    "tags": []
   },
   "outputs": [],
   "source": [
    "adata.var_names"
   ]
  },
  {
   "cell_type": "code",
   "execution_count": null,
   "id": "26814373-c996-4f3f-8f09-8a2d37985f74",
   "metadata": {
    "tags": []
   },
   "outputs": [],
   "source": [
    "adata.obs['Group'].value_counts()"
   ]
  }
 ],
 "metadata": {
  "kernelspec": {
   "display_name": "Python 3 (ipykernel)",
   "language": "python",
   "name": "python3"
  },
  "language_info": {
   "codemirror_mode": {
    "name": "ipython",
    "version": 3
   },
   "file_extension": ".py",
   "mimetype": "text/x-python",
   "name": "python",
   "nbconvert_exporter": "python",
   "pygments_lexer": "ipython3",
   "version": "3.11.5"
  }
 },
 "nbformat": 4,
 "nbformat_minor": 5
}
